{
 "cells": [
  {
   "cell_type": "markdown",
   "metadata": {},
   "source": [
    "# Properties of Dot Product - Lab"
   ]
  },
  {
   "cell_type": "markdown",
   "metadata": {},
   "source": [
    "## Introduction\n",
    "\n",
    "In this lab we shall look at some interesting properties of a Dot product type matrix multiplication. Understanding these properties will become useful as we move forward with machine learning advanced linear algebra. The lab will require you to calculate results to provide a proof for these properties.\n",
    "\n",
    "## Objectives\n",
    "You will be able to:\n",
    "* Understand and analytically explain Distributive, Commutative and Associative properties of dot product\n",
    "\n",
    "## Instructions\n",
    "\n",
    "* For each property, create suitably sized matrices with random data and prove the equations \n",
    "* Ensure that size/dimension assumptions are met while performing calculations (you'll see errors otherwise)\n",
    "* Calculate the LHS and RHS for all equations and show if they are equal or not"
   ]
  },
  {
   "cell_type": "code",
   "execution_count": 2,
   "metadata": {},
   "outputs": [],
   "source": [
    "import numpy as np\n",
    "import random"
   ]
  },
  {
   "cell_type": "markdown",
   "metadata": {},
   "source": [
    "## Distributive Property - Matrices multiplication is distributive\n",
    "### Prove that A.(B+C)=A.B+A.C"
   ]
  },
  {
   "cell_type": "code",
   "execution_count": 6,
   "metadata": {},
   "outputs": [
    {
     "name": "stdout",
     "output_type": "stream",
     "text": [
      "[[ 98. 158. 196. 183. 221.]\n",
      " [134. 206. 185. 187. 245.]\n",
      " [217. 324. 360. 333. 414.]\n",
      " [273. 398. 453. 431. 528.]\n",
      " [176. 260. 229. 237. 314.]]\n",
      "[[ 98. 158. 196. 183. 221.]\n",
      " [134. 206. 185. 187. 245.]\n",
      " [217. 324. 360. 333. 414.]\n",
      " [273. 398. 453. 431. 528.]\n",
      " [176. 260. 229. 237. 314.]]\n",
      "[[ True  True  True  True  True]\n",
      " [ True  True  True  True  True]\n",
      " [ True  True  True  True  True]\n",
      " [ True  True  True  True  True]\n",
      " [ True  True  True  True  True]]\n"
     ]
    }
   ],
   "source": [
    "A=np.zeros([5,5])\n",
    "B=np.zeros([5,5])\n",
    "C=np.zeros([5,5])\n",
    "\n",
    "def fill_matrix(matrix):\n",
    "    for x in range(0, matrix.shape[0]):\n",
    "        for y in range(0, matrix.shape[1]):\n",
    "            matrix[x][y] = random.randrange(1, 10)\n",
    "    return matrix\n",
    "\n",
    "fill_matrix(A)\n",
    "fill_matrix(B)\n",
    "fill_matrix(C)\n",
    "\n",
    "print(A.dot((B + C)))\n",
    "print(A.dot(B) + A.dot(C))\n",
    "print((A.dot((B + C))==A.dot(B) + A.dot(C)))"
   ]
  },
  {
   "cell_type": "markdown",
   "metadata": {},
   "source": [
    "## Associative Property - Matrices multiplication is associative\n",
    "### Prove that A.(B.C)=(A.B).C"
   ]
  },
  {
   "cell_type": "code",
   "execution_count": 7,
   "metadata": {},
   "outputs": [
    {
     "name": "stdout",
     "output_type": "stream",
     "text": [
      "[[ 960. 2197. 2257. 2123. 2780.]\n",
      " [1241. 2341. 2732. 2326. 3317.]\n",
      " [2000. 3974. 4499. 3921. 5541.]\n",
      " [2497. 5062. 5668. 4974. 6948.]\n",
      " [1569. 3019. 3475. 2981. 4178.]]\n",
      "[[ 960. 2197. 2257. 2123. 2780.]\n",
      " [1241. 2341. 2732. 2326. 3317.]\n",
      " [2000. 3974. 4499. 3921. 5541.]\n",
      " [2497. 5062. 5668. 4974. 6948.]\n",
      " [1569. 3019. 3475. 2981. 4178.]]\n",
      "[[ True  True  True  True  True]\n",
      " [ True  True  True  True  True]\n",
      " [ True  True  True  True  True]\n",
      " [ True  True  True  True  True]\n",
      " [ True  True  True  True  True]]\n"
     ]
    }
   ],
   "source": [
    "print(A.dot(B.dot(C)))\n",
    "print(A.dot(B).dot(C))\n",
    "print(A.dot(B.dot(C))==A.dot(B).dot(C))"
   ]
  },
  {
   "cell_type": "markdown",
   "metadata": {},
   "source": [
    "## Commutative Property - Matrix multiplication is NOT commutative\n",
    "### Prove that for matrices, A.B ≠ B.A"
   ]
  },
  {
   "cell_type": "code",
   "execution_count": 8,
   "metadata": {},
   "outputs": [
    {
     "name": "stdout",
     "output_type": "stream",
     "text": [
      "[[ 65.  51. 114.  73. 114.]\n",
      " [ 76. 103.  86. 108. 103.]\n",
      " [122. 155. 160. 181. 185.]\n",
      " [157. 181. 212. 218. 244.]\n",
      " [101. 120. 117. 127. 138.]]\n",
      "[[208. 129. 213. 183. 160.]\n",
      " [170. 106. 169. 149. 128.]\n",
      " [147.  76. 139. 121. 114.]\n",
      " [122.  80. 122. 113.  95.]\n",
      " [154.  94. 139. 133. 118.]]\n",
      "[[False False False False False]\n",
      " [False False False False False]\n",
      " [False False False False False]\n",
      " [False False False False False]\n",
      " [False False False False False]]\n"
     ]
    }
   ],
   "source": [
    "print(A.dot(B))\n",
    "print(B.dot(A))\n",
    "print(A.dot(B)==B.dot(A))"
   ]
  },
  {
   "cell_type": "markdown",
   "metadata": {},
   "source": [
    "## Commutative Property -  vector multiplication IS commutative\n",
    "### Prove that for vectors, x<sup>T</sup> . y = y<sup>T</sup> . x\n",
    "Note: superscipt<sup>T</sup> denotes the transpose we saw earlier"
   ]
  },
  {
   "cell_type": "code",
   "execution_count": 15,
   "metadata": {},
   "outputs": [
    {
     "data": {
      "text/plain": [
       "True"
      ]
     },
     "execution_count": 15,
     "metadata": {},
     "output_type": "execute_result"
    }
   ],
   "source": [
    "x=np.random.randint(100, size=5)\n",
    "y=np.random.randint(100, size=5)\n",
    "\n",
    "x.transpose().dot(y)==y.transpose().dot(x)"
   ]
  },
  {
   "cell_type": "markdown",
   "metadata": {},
   "source": [
    "#### and finally \n",
    "## Simplification of the matrix product\n",
    "### Prove that  (A.B)<sup>T</sup> = B<sup>T</sup> . A<sup>T</sup>"
   ]
  },
  {
   "cell_type": "code",
   "execution_count": 16,
   "metadata": {},
   "outputs": [
    {
     "data": {
      "text/plain": [
       "array([[ True,  True,  True,  True,  True],\n",
       "       [ True,  True,  True,  True,  True],\n",
       "       [ True,  True,  True,  True,  True],\n",
       "       [ True,  True,  True,  True,  True],\n",
       "       [ True,  True,  True,  True,  True]])"
      ]
     },
     "execution_count": 16,
     "metadata": {},
     "output_type": "execute_result"
    }
   ],
   "source": [
    "(A.dot(B)).transpose()==B.transpose().dot(A.transpose())"
   ]
  },
  {
   "cell_type": "markdown",
   "metadata": {},
   "source": [
    "## Summary \n",
    "\n",
    "So now we have seen enough matrix algebra to help us solve a problem of linear equations as we saw earlier in this section. We shall see how to do this next. "
   ]
  }
 ],
 "metadata": {
  "kernelspec": {
   "display_name": "Python 3",
   "language": "python",
   "name": "python3"
  },
  "language_info": {
   "codemirror_mode": {
    "name": "ipython",
    "version": 3
   },
   "file_extension": ".py",
   "mimetype": "text/x-python",
   "name": "python",
   "nbconvert_exporter": "python",
   "pygments_lexer": "ipython3",
   "version": "3.6.6"
  }
 },
 "nbformat": 4,
 "nbformat_minor": 2
}
